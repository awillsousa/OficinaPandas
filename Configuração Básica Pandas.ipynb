{
 "cells": [
  {
   "cell_type": "markdown",
   "metadata": {},
   "source": [
    "## Oficina de Análise de Dados \n",
    "### Teste Básico do Pandas\n",
    "### Instrutor: Antonio Willian Sousa"
   ]
  },
  {
   "cell_type": "markdown",
   "metadata": {},
   "source": [
    "#### Primeiro executamos a instalação do pandas e algumas bibliotecas que ajudaram ao longo do nosso curso"
   ]
  },
  {
   "cell_type": "code",
   "execution_count": 12,
   "metadata": {},
   "outputs": [
    {
     "name": "stdout",
     "output_type": "stream",
     "text": [
      "Requirement already satisfied: pandas in /home/willian/anaconda3/envs/curso_prce/lib/python3.8/site-packages (1.1.3)\n",
      "Requirement already satisfied: python-dateutil>=2.7.3 in /home/willian/anaconda3/envs/curso_prce/lib/python3.8/site-packages (from pandas) (2.8.1)\n",
      "Requirement already satisfied: numpy>=1.15.4 in /home/willian/anaconda3/envs/curso_prce/lib/python3.8/site-packages (from pandas) (1.19.2)\n",
      "Requirement already satisfied: pytz>=2017.2 in /home/willian/anaconda3/envs/curso_prce/lib/python3.8/site-packages (from pandas) (2020.1)\n",
      "Requirement already satisfied: six>=1.5 in /home/willian/anaconda3/envs/curso_prce/lib/python3.8/site-packages (from python-dateutil>=2.7.3->pandas) (1.15.0)\n",
      "Requirement already satisfied: matplotlib in /home/willian/anaconda3/envs/curso_prce/lib/python3.8/site-packages (3.3.2)\n",
      "Requirement already satisfied: pillow>=6.2.0 in /home/willian/anaconda3/envs/curso_prce/lib/python3.8/site-packages (from matplotlib) (8.0.1)\n",
      "Requirement already satisfied: kiwisolver>=1.0.1 in /home/willian/anaconda3/envs/curso_prce/lib/python3.8/site-packages (from matplotlib) (1.3.1)\n",
      "Requirement already satisfied: numpy>=1.15 in /home/willian/anaconda3/envs/curso_prce/lib/python3.8/site-packages (from matplotlib) (1.19.2)\n",
      "Requirement already satisfied: certifi>=2020.06.20 in /home/willian/anaconda3/envs/curso_prce/lib/python3.8/site-packages (from matplotlib) (2020.6.20)\n",
      "Requirement already satisfied: pyparsing!=2.0.4,!=2.1.2,!=2.1.6,>=2.0.3 in /home/willian/anaconda3/envs/curso_prce/lib/python3.8/site-packages (from matplotlib) (2.4.7)\n",
      "Requirement already satisfied: python-dateutil>=2.1 in /home/willian/anaconda3/envs/curso_prce/lib/python3.8/site-packages (from matplotlib) (2.8.1)\n",
      "Requirement already satisfied: cycler>=0.10 in /home/willian/anaconda3/envs/curso_prce/lib/python3.8/site-packages (from matplotlib) (0.10.0)\n",
      "Requirement already satisfied: six>=1.5 in /home/willian/anaconda3/envs/curso_prce/lib/python3.8/site-packages (from python-dateutil>=2.1->matplotlib) (1.15.0)\n",
      "Requirement already satisfied: openpyxl in /home/willian/anaconda3/envs/curso_prce/lib/python3.8/site-packages (3.0.5)\n",
      "Requirement already satisfied: et-xmlfile in /home/willian/anaconda3/envs/curso_prce/lib/python3.8/site-packages (from openpyxl) (1.0.1)\n",
      "Requirement already satisfied: jdcal in /home/willian/anaconda3/envs/curso_prce/lib/python3.8/site-packages (from openpyxl) (1.4.1)\n",
      "Requirement already satisfied: Beautifulsoup4 in /home/willian/anaconda3/envs/curso_prce/lib/python3.8/site-packages (4.9.3)\n",
      "Requirement already satisfied: html5lib in /home/willian/anaconda3/envs/curso_prce/lib/python3.8/site-packages (1.1)\n",
      "Requirement already satisfied: lxml in /home/willian/anaconda3/envs/curso_prce/lib/python3.8/site-packages (4.6.1)\n",
      "Requirement already satisfied: soupsieve>1.2; python_version >= \"3.0\" in /home/willian/anaconda3/envs/curso_prce/lib/python3.8/site-packages (from Beautifulsoup4) (2.0.1)\n",
      "Requirement already satisfied: webencodings in /home/willian/anaconda3/envs/curso_prce/lib/python3.8/site-packages (from html5lib) (0.5.1)\n",
      "Requirement already satisfied: six>=1.9 in /home/willian/anaconda3/envs/curso_prce/lib/python3.8/site-packages (from html5lib) (1.15.0)\n",
      "Requirement already satisfied: xlrd in /home/willian/anaconda3/envs/curso_prce/lib/python3.8/site-packages (1.2.0)\n"
     ]
    }
   ],
   "source": [
    "!pip install pandas\n",
    "!pip install matplotlib\n",
    "!pip install openpyxl\n",
    "!pip install Beautifulsoup4 html5lib lxml\n",
    "!pip install xlrd"
   ]
  },
  {
   "cell_type": "markdown",
   "metadata": {},
   "source": [
    "#### Exemplo simples de construção de uma tabela de dados no Pandas \n"
   ]
  },
  {
   "cell_type": "code",
   "execution_count": 13,
   "metadata": {},
   "outputs": [
    {
     "name": "stdout",
     "output_type": "stream",
     "text": [
      "\n",
      "Dados do dataframe organizados de forma tabular\n",
      "\n",
      "   idade  nacionalidade  altura  peso  sexo  gosta de futebol  salario\n",
      "0     22              0    1.70    75     0                 1     2500\n",
      "1     52              1    1.75    80     0                 1     2500\n",
      "2     31              1    1.50    65     1                 1     4500\n",
      "3     65              1    1.95    86     0                 0     6500\n",
      "4     17              0    1.81    95     0                 1     1500\n",
      "5     54              0    1.65    80     1                 0     3500\n",
      "6     30              0    1.90   105     1                 1     1200\n",
      "7     25              1    1.85    65     1                 1     2245\n",
      "8     49              0    1.71    75     0                 0    25000\n",
      "9     26              1    1.81    80     1                 1     8000\n",
      "\n",
      "Dados do dataframe organizados como CSV\n",
      "\n",
      "idade,nacionalidade,altura,peso,sexo,gosta de futebol,salario\n",
      "22,0,1.7,75,0,1,2500\n",
      "52,1,1.75,80,0,1,2500\n",
      "31,1,1.5,65,1,1,4500\n",
      "65,1,1.95,86,0,0,6500\n",
      "17,0,1.81,95,0,1,1500\n",
      "54,0,1.65,80,1,0,3500\n",
      "30,0,1.9,105,1,1,1200\n",
      "25,1,1.85,65,1,1,2245\n",
      "49,0,1.71,75,0,0,25000\n",
      "26,1,1.81,80,1,1,8000\n",
      "\n"
     ]
    }
   ],
   "source": [
    "import pandas as pd\n",
    "\n",
    "todos_clientes = [[22,0,1.70,75,0,1,2500],\n",
    "                  [52,1,1.75,80,0,1,2500],\n",
    "                  [31,1,1.50,65,1,1,4500],\n",
    "                  [65,1,1.95,86,0,0,6500],\n",
    "                  [17,0,1.81,95,0,1,1500],\n",
    "                  [54,0,1.65,80,1,0,3500],\n",
    "                  [30,0,1.90,105,1,1,1200],\n",
    "                  [25,1,1.85,65,1,1,2245],\n",
    "                  [49,0,1.71,75,0,0,25000],\n",
    "                  [26,1,1.81,80,1,1,8000]]\n",
    "\n",
    "df_clientes = pd.DataFrame(data=todos_clientes, \n",
    "                           columns=[\"idade\", \"nacionalidade\",\n",
    "                                    \"altura\", \"peso\", \"sexo\",\n",
    "                                    \"gosta de futebol\", \"salario\"])\n",
    "\n",
    "# Exibe os dados do dataframe em formato tabular\n",
    "print(\"\\nDados do dataframe organizados de forma tabular\\n\")\n",
    "print(df_clientes.to_string())\n",
    "\n",
    "# Exibe os dados do dataframe como csv\n",
    "print(\"\\nDados do dataframe organizados como CSV\\n\")\n",
    "print(df_clientes.to_csv(sep=\",\", index=False))\n",
    "\n",
    "# Armazena os dados do dataframe em um arquivo csv\n",
    "df_clientes.to_csv(\"dados_clientes.csv\", index=False)\n",
    "\n",
    "# Armazena os dados do dataframe em um arquivo json\n",
    "df_clientes.to_json(\"dados_clientes.json\", orient=\"records\")\n",
    "\n",
    "df_clientes.to_json(\"dados_clientes_norient.json\")\n",
    "\n"
   ]
  },
  {
   "cell_type": "code",
   "execution_count": 14,
   "metadata": {},
   "outputs": [
    {
     "name": "stdout",
     "output_type": "stream",
     "text": [
      "['idade', 'nacionalidade', 'altura', 'peso', 'sexo', 'gosta de futebol', 'salario']\n",
      "['22', '0', '1.7', '75', '0', '1', '2500']\n",
      "['52', '1', '1.75', '80', '0', '1', '2500']\n",
      "['31', '1', '1.5', '65', '1', '1', '4500']\n",
      "['65', '1', '1.95', '86', '0', '0', '6500']\n",
      "['17', '0', '1.81', '95', '0', '1', '1500']\n",
      "['54', '0', '1.65', '80', '1', '0', '3500']\n",
      "['30', '0', '1.9', '105', '1', '1', '1200']\n",
      "['25', '1', '1.85', '65', '1', '1', '2245']\n",
      "['49', '0', '1.71', '75', '0', '0', '25000']\n",
      "['26', '1', '1.81', '80', '1', '1', '8000']\n"
     ]
    }
   ],
   "source": [
    "# Carrega os dados dos clientes armazenados no arquivo csv\n",
    "import csv\n",
    "with open(\"dados_clientes.csv\") as f:\n",
    "    data = csv.reader(f, delimiter=',', quotechar='\"')    \n",
    "    #Itera as linhas do arquivo\n",
    "    for linha in data:\n",
    "        print(str(linha))"
   ]
  },
  {
   "cell_type": "markdown",
   "metadata": {},
   "source": [
    "#### Python também pode ser utilizados para lidar com dados em json"
   ]
  },
  {
   "cell_type": "code",
   "execution_count": 15,
   "metadata": {},
   "outputs": [
    {
     "name": "stdout",
     "output_type": "stream",
     "text": [
      "[{'idade': 22, 'nacionalidade': 0, 'altura': 1.7, 'peso': 75, 'sexo': 0, 'gosta de futebol': 1, 'salario': 2500}, {'idade': 52, 'nacionalidade': 1, 'altura': 1.75, 'peso': 80, 'sexo': 0, 'gosta de futebol': 1, 'salario': 2500}, {'idade': 31, 'nacionalidade': 1, 'altura': 1.5, 'peso': 65, 'sexo': 1, 'gosta de futebol': 1, 'salario': 4500}, {'idade': 65, 'nacionalidade': 1, 'altura': 1.95, 'peso': 86, 'sexo': 0, 'gosta de futebol': 0, 'salario': 6500}, {'idade': 17, 'nacionalidade': 0, 'altura': 1.81, 'peso': 95, 'sexo': 0, 'gosta de futebol': 1, 'salario': 1500}, {'idade': 54, 'nacionalidade': 0, 'altura': 1.65, 'peso': 80, 'sexo': 1, 'gosta de futebol': 0, 'salario': 3500}, {'idade': 30, 'nacionalidade': 0, 'altura': 1.9, 'peso': 105, 'sexo': 1, 'gosta de futebol': 1, 'salario': 1200}, {'idade': 25, 'nacionalidade': 1, 'altura': 1.85, 'peso': 65, 'sexo': 1, 'gosta de futebol': 1, 'salario': 2245}, {'idade': 49, 'nacionalidade': 0, 'altura': 1.71, 'peso': 75, 'sexo': 0, 'gosta de futebol': 0, 'salario': 25000}, {'idade': 26, 'nacionalidade': 1, 'altura': 1.81, 'peso': 80, 'sexo': 1, 'gosta de futebol': 1, 'salario': 8000}]\n",
      "{'idade': {'0': 22, '1': 52, '2': 31, '3': 65, '4': 17, '5': 54, '6': 30, '7': 25, '8': 49, '9': 26}, 'nacionalidade': {'0': 0, '1': 1, '2': 1, '3': 1, '4': 0, '5': 0, '6': 0, '7': 1, '8': 0, '9': 1}, 'altura': {'0': 1.7, '1': 1.75, '2': 1.5, '3': 1.95, '4': 1.81, '5': 1.65, '6': 1.9, '7': 1.85, '8': 1.71, '9': 1.81}, 'peso': {'0': 75, '1': 80, '2': 65, '3': 86, '4': 95, '5': 80, '6': 105, '7': 65, '8': 75, '9': 80}, 'sexo': {'0': 0, '1': 0, '2': 1, '3': 0, '4': 0, '5': 1, '6': 1, '7': 1, '8': 0, '9': 1}, 'gosta de futebol': {'0': 1, '1': 1, '2': 1, '3': 0, '4': 1, '5': 0, '6': 1, '7': 1, '8': 0, '9': 1}, 'salario': {'0': 2500, '1': 2500, '2': 4500, '3': 6500, '4': 1500, '5': 3500, '6': 1200, '7': 2245, '8': 25000, '9': 8000}}\n"
     ]
    }
   ],
   "source": [
    "# Carrega os dados dos clientes armazenados no arquivo json\n",
    "import json\n",
    "dados_clientes_json = None\n",
    "with open(\"dados_clientes.json\", \"r\") as read_file:\n",
    "    # Itera as linhas do arquivo\n",
    "    dados_clientes_json = json.load(read_file)\n",
    "\n",
    "print(dados_clientes_json)\n",
    "\n",
    "with open(\"dados_clientes_norient.json\", \"r\") as read_file:\n",
    "    # Itera as linhas do arquivo\n",
    "    dados_clientes_json = json.load(read_file)\n",
    "\n",
    "print(dados_clientes_json)\n"
   ]
  },
  {
   "cell_type": "markdown",
   "metadata": {},
   "source": [
    "### A Biblioteca Pandas"
   ]
  },
  {
   "cell_type": "code",
   "execution_count": 20,
   "metadata": {},
   "outputs": [
    {
     "data": {
      "text/html": [
       "<div>\n",
       "<style scoped>\n",
       "    .dataframe tbody tr th:only-of-type {\n",
       "        vertical-align: middle;\n",
       "    }\n",
       "\n",
       "    .dataframe tbody tr th {\n",
       "        vertical-align: top;\n",
       "    }\n",
       "\n",
       "    .dataframe thead th {\n",
       "        text-align: right;\n",
       "    }\n",
       "</style>\n",
       "<table border=\"1\" class=\"dataframe\">\n",
       "  <thead>\n",
       "    <tr style=\"text-align: right;\">\n",
       "      <th></th>\n",
       "      <th>idade</th>\n",
       "      <th>nacionalidade</th>\n",
       "      <th>altura</th>\n",
       "      <th>peso</th>\n",
       "      <th>sexo</th>\n",
       "      <th>gosta de futebol</th>\n",
       "      <th>salario</th>\n",
       "    </tr>\n",
       "  </thead>\n",
       "  <tbody>\n",
       "    <tr>\n",
       "      <th>Ana</th>\n",
       "      <td>22</td>\n",
       "      <td>0</td>\n",
       "      <td>1.70</td>\n",
       "      <td>75</td>\n",
       "      <td>0</td>\n",
       "      <td>1</td>\n",
       "      <td>2500</td>\n",
       "    </tr>\n",
       "    <tr>\n",
       "      <th>Beto</th>\n",
       "      <td>52</td>\n",
       "      <td>1</td>\n",
       "      <td>1.75</td>\n",
       "      <td>80</td>\n",
       "      <td>0</td>\n",
       "      <td>1</td>\n",
       "      <td>2500</td>\n",
       "    </tr>\n",
       "    <tr>\n",
       "      <th>Bia</th>\n",
       "      <td>31</td>\n",
       "      <td>1</td>\n",
       "      <td>1.50</td>\n",
       "      <td>65</td>\n",
       "      <td>1</td>\n",
       "      <td>1</td>\n",
       "      <td>4500</td>\n",
       "    </tr>\n",
       "    <tr>\n",
       "      <th>Carlos</th>\n",
       "      <td>65</td>\n",
       "      <td>1</td>\n",
       "      <td>1.95</td>\n",
       "      <td>86</td>\n",
       "      <td>0</td>\n",
       "      <td>0</td>\n",
       "      <td>6500</td>\n",
       "    </tr>\n",
       "    <tr>\n",
       "      <th>Carol</th>\n",
       "      <td>17</td>\n",
       "      <td>0</td>\n",
       "      <td>1.81</td>\n",
       "      <td>95</td>\n",
       "      <td>0</td>\n",
       "      <td>1</td>\n",
       "      <td>1500</td>\n",
       "    </tr>\n",
       "  </tbody>\n",
       "</table>\n",
       "</div>"
      ],
      "text/plain": [
       "        idade  nacionalidade  altura  peso  sexo  gosta de futebol  salario\n",
       "Ana        22              0    1.70    75     0                 1     2500\n",
       "Beto       52              1    1.75    80     0                 1     2500\n",
       "Bia        31              1    1.50    65     1                 1     4500\n",
       "Carlos     65              1    1.95    86     0                 0     6500\n",
       "Carol      17              0    1.81    95     0                 1     1500"
      ]
     },
     "execution_count": 20,
     "metadata": {},
     "output_type": "execute_result"
    }
   ],
   "source": [
    "import pandas as pd\n",
    "\n",
    "todos_clientes = [[22,0,1.70,75,0,1,2500],\n",
    "                  [52,1,1.75,80,0,1,2500],\n",
    "                  [31,1,1.50,65,1,1,4500],\n",
    "                  [65,1,1.95,86,0,0,6500],\n",
    "                  [17,0,1.81,95,0,1,1500]]\n",
    "\n",
    "df_clientes = pd.DataFrame(data=todos_clientes, \n",
    "                           columns=[\"idade\", \"nacionalidade\",\n",
    "                                    \"altura\", \"peso\", \"sexo\",\n",
    "                                    \"gosta de futebol\", \"salario\"],\n",
    "                          index=[\"Ana\",\"Beto\",\"Bia\",\"Carlos\",\"Carol\"])\n",
    "\n",
    "df_clientes"
   ]
  },
  {
   "cell_type": "code",
   "execution_count": 30,
   "metadata": {},
   "outputs": [
    {
     "ename": "TypeError",
     "evalue": "'(slice(None, None, None), 'Ana')' is an invalid key",
     "output_type": "error",
     "traceback": [
      "\u001b[0;31m---------------------------------------------------------------------------\u001b[0m",
      "\u001b[0;31mTypeError\u001b[0m                                 Traceback (most recent call last)",
      "\u001b[0;32m<ipython-input-30-e5139361787a>\u001b[0m in \u001b[0;36m<module>\u001b[0;34m\u001b[0m\n\u001b[1;32m      1\u001b[0m \u001b[0mdf_clientes\u001b[0m\u001b[0;34m.\u001b[0m\u001b[0mloc\u001b[0m\u001b[0;34m[\u001b[0m\u001b[0;34m'Ana'\u001b[0m\u001b[0;34m]\u001b[0m\u001b[0;34m\u001b[0m\u001b[0;34m\u001b[0m\u001b[0m\n\u001b[1;32m      2\u001b[0m \u001b[0;34m\u001b[0m\u001b[0m\n\u001b[0;32m----> 3\u001b[0;31m \u001b[0mdf_clientes\u001b[0m\u001b[0;34m[\u001b[0m\u001b[0;34m:\u001b[0m\u001b[0;34m,\u001b[0m\u001b[0;34m\"Ana\"\u001b[0m\u001b[0;34m]\u001b[0m\u001b[0;34m\u001b[0m\u001b[0;34m\u001b[0m\u001b[0m\n\u001b[0m",
      "\u001b[0;32m~/anaconda3/envs/curso_prce/lib/python3.8/site-packages/pandas/core/frame.py\u001b[0m in \u001b[0;36m__getitem__\u001b[0;34m(self, key)\u001b[0m\n\u001b[1;32m   2900\u001b[0m             \u001b[0;32mif\u001b[0m \u001b[0mself\u001b[0m\u001b[0;34m.\u001b[0m\u001b[0mcolumns\u001b[0m\u001b[0;34m.\u001b[0m\u001b[0mnlevels\u001b[0m \u001b[0;34m>\u001b[0m \u001b[0;36m1\u001b[0m\u001b[0;34m:\u001b[0m\u001b[0;34m\u001b[0m\u001b[0;34m\u001b[0m\u001b[0m\n\u001b[1;32m   2901\u001b[0m                 \u001b[0;32mreturn\u001b[0m \u001b[0mself\u001b[0m\u001b[0;34m.\u001b[0m\u001b[0m_getitem_multilevel\u001b[0m\u001b[0;34m(\u001b[0m\u001b[0mkey\u001b[0m\u001b[0;34m)\u001b[0m\u001b[0;34m\u001b[0m\u001b[0;34m\u001b[0m\u001b[0m\n\u001b[0;32m-> 2902\u001b[0;31m             \u001b[0mindexer\u001b[0m \u001b[0;34m=\u001b[0m \u001b[0mself\u001b[0m\u001b[0;34m.\u001b[0m\u001b[0mcolumns\u001b[0m\u001b[0;34m.\u001b[0m\u001b[0mget_loc\u001b[0m\u001b[0;34m(\u001b[0m\u001b[0mkey\u001b[0m\u001b[0;34m)\u001b[0m\u001b[0;34m\u001b[0m\u001b[0;34m\u001b[0m\u001b[0m\n\u001b[0m\u001b[1;32m   2903\u001b[0m             \u001b[0;32mif\u001b[0m \u001b[0mis_integer\u001b[0m\u001b[0;34m(\u001b[0m\u001b[0mindexer\u001b[0m\u001b[0;34m)\u001b[0m\u001b[0;34m:\u001b[0m\u001b[0;34m\u001b[0m\u001b[0;34m\u001b[0m\u001b[0m\n\u001b[1;32m   2904\u001b[0m                 \u001b[0mindexer\u001b[0m \u001b[0;34m=\u001b[0m \u001b[0;34m[\u001b[0m\u001b[0mindexer\u001b[0m\u001b[0;34m]\u001b[0m\u001b[0;34m\u001b[0m\u001b[0;34m\u001b[0m\u001b[0m\n",
      "\u001b[0;32m~/anaconda3/envs/curso_prce/lib/python3.8/site-packages/pandas/core/indexes/base.py\u001b[0m in \u001b[0;36mget_loc\u001b[0;34m(self, key, method, tolerance)\u001b[0m\n\u001b[1;32m   2893\u001b[0m             \u001b[0mcasted_key\u001b[0m \u001b[0;34m=\u001b[0m \u001b[0mself\u001b[0m\u001b[0;34m.\u001b[0m\u001b[0m_maybe_cast_indexer\u001b[0m\u001b[0;34m(\u001b[0m\u001b[0mkey\u001b[0m\u001b[0;34m)\u001b[0m\u001b[0;34m\u001b[0m\u001b[0;34m\u001b[0m\u001b[0m\n\u001b[1;32m   2894\u001b[0m             \u001b[0;32mtry\u001b[0m\u001b[0;34m:\u001b[0m\u001b[0;34m\u001b[0m\u001b[0;34m\u001b[0m\u001b[0m\n\u001b[0;32m-> 2895\u001b[0;31m                 \u001b[0;32mreturn\u001b[0m \u001b[0mself\u001b[0m\u001b[0;34m.\u001b[0m\u001b[0m_engine\u001b[0m\u001b[0;34m.\u001b[0m\u001b[0mget_loc\u001b[0m\u001b[0;34m(\u001b[0m\u001b[0mcasted_key\u001b[0m\u001b[0;34m)\u001b[0m\u001b[0;34m\u001b[0m\u001b[0;34m\u001b[0m\u001b[0m\n\u001b[0m\u001b[1;32m   2896\u001b[0m             \u001b[0;32mexcept\u001b[0m \u001b[0mKeyError\u001b[0m \u001b[0;32mas\u001b[0m \u001b[0merr\u001b[0m\u001b[0;34m:\u001b[0m\u001b[0;34m\u001b[0m\u001b[0;34m\u001b[0m\u001b[0m\n\u001b[1;32m   2897\u001b[0m                 \u001b[0;32mraise\u001b[0m \u001b[0mKeyError\u001b[0m\u001b[0;34m(\u001b[0m\u001b[0mkey\u001b[0m\u001b[0;34m)\u001b[0m \u001b[0;32mfrom\u001b[0m \u001b[0merr\u001b[0m\u001b[0;34m\u001b[0m\u001b[0;34m\u001b[0m\u001b[0m\n",
      "\u001b[0;32mpandas/_libs/index.pyx\u001b[0m in \u001b[0;36mpandas._libs.index.IndexEngine.get_loc\u001b[0;34m()\u001b[0m\n",
      "\u001b[0;32mpandas/_libs/index.pyx\u001b[0m in \u001b[0;36mpandas._libs.index.IndexEngine.get_loc\u001b[0;34m()\u001b[0m\n",
      "\u001b[0;31mTypeError\u001b[0m: '(slice(None, None, None), 'Ana')' is an invalid key"
     ]
    }
   ],
   "source": []
  },
  {
   "cell_type": "code",
   "execution_count": 17,
   "metadata": {},
   "outputs": [
    {
     "name": "stdout",
     "output_type": "stream",
     "text": [
      "\n",
      "idade                       22\n",
      "nacionalidade       brasileiro\n",
      "altura                     1.7\n",
      "peso                        75\n",
      "sexo                  feminino\n",
      "gosta de futebol          True\n",
      "salario                   2500\n",
      "Name: Ana, dtype: object\n",
      "\n",
      "Ana       22\n",
      "Beto      52\n",
      "Bia       31\n",
      "Carlos    65\n",
      "Carol     17\n",
      "Name: idade, dtype: int64\n",
      "\n",
      "22\n",
      "\n",
      "        idade nacionalidade  altura  peso       sexo  gosta de futebol  \\\n",
      "Beto       52   estrangeiro    1.75  80.0  masculino              True   \n",
      "Carlos     65   estrangeiro    1.95  86.0  masculino             False   \n",
      "\n",
      "        salario  \n",
      "Beto       2500  \n",
      "Carlos     6500  \n"
     ]
    }
   ],
   "source": [
    "import pandas as pd\n",
    "\n",
    "dados_clientes = {\"idade\": [22, 52, 31, 65, 17],\n",
    "                  \"nacionalidade\": [\"brasileiro\",\"estrangeiro\",\"estrangeiro\", \"estrangeiro\", \"brasileiro\"],\n",
    "                  \"altura\": [1.7 ,    1.75,    1.5 ,    1.95,    1.81], \n",
    "                  \"peso\": [75.  ,   80.  ,   65.  ,   86.  ,   95.], \n",
    "                  \"sexo\": [\"feminino\", \"masculino\", \"feminino\", \"masculino\", \"feminino\"],\n",
    "                  \"gosta de futebol\": [True, True, True, False, True], \n",
    "                  \"salario\": [2500, 2500, 4500, 6500, 1500]}\n",
    "\n",
    "df_clientes = pd.DataFrame(data=dados_clientes,                           \n",
    "                          index=[\"Ana\",\"Beto\",\"Bia\",\"Carlos\",\"Carol\"])\n",
    "\n",
    "print(\"\\n{}\".format(df_clientes.loc[\"Ana\"]))\n",
    "print(\"\\n{}\".format(df_clientes[\"idade\"]))\n",
    "print(\"\\n{}\".format(df_clientes[\"idade\"][\"Ana\"]))\n",
    "print(\"\\n{}\".format(df_clientes[df_clientes[\"idade\"] > 32]))"
   ]
  },
  {
   "cell_type": "code",
   "execution_count": 18,
   "metadata": {},
   "outputs": [
    {
     "name": "stdout",
     "output_type": "stream",
     "text": [
      "\n",
      "DataFrame filtrado por colunas e critério: \n",
      "        idade       sexo  salario\n",
      "Bia        31   feminino     4500\n",
      "Carlos     65  masculino     6500\n",
      "\n",
      "DataFrame de dicionário de dicionários: \n",
      "   lista1  lista2\n",
      "0      10      45\n",
      "1      20      45\n",
      "2      20      45\n",
      "\n",
      "DataFrame de dicionário de dicionários: \n",
      "        dic1  dic2\n",
      "chave1    10    10\n",
      "chave2    10    20\n",
      "\n",
      "DataFrame de lista de listas: \n",
      "    0   1   2\n",
      "0  10  20  20\n",
      "1  45  45  45\n",
      "\n",
      "DataFrame de lista de dicionários: \n",
      "   chave1  chave2\n",
      "0      10      10\n",
      "1      10      20\n"
     ]
    }
   ],
   "source": [
    "# Exemplos de indexação, seleção e filtragem\n",
    "\n",
    "# seleciona diferentes linhas e colunas\n",
    "df_clientes.loc[[\"Ana\", \"Beto\", \"Bia\"], [\"idade\",\"sexo\",\"salario\"]]\n",
    "\n",
    "# seleciona baseado em critério\n",
    "df_filtro = df_clientes.loc[:, [\"idade\",\"sexo\",\"salario\"]][df_clientes.salario > 3000]\n",
    "print(\"\\nDataFrame filtrado por colunas e critério: \\n{}\".format(df_filtro))\n",
    "\n",
    "cols_nome = {\"lista1\": [10,20,20],\n",
    "            \"lista2\": [45,45,45]}\n",
    "\n",
    "# Criando um dataframe a partir de um dicionário\n",
    "# de listas\n",
    "df_cols = pd.DataFrame(cols_nome)\n",
    "print(\"\\nDataFrame de dicionário de dicionários: \\n{}\".format(df_cols))\n",
    "\n",
    "# Criando um dataframe a partir de um dicionário\n",
    "# de dicionários\n",
    "dic_of_dics = {\"dic1\": {\"chave1\": 10, \"chave2\": 10},\n",
    "               \"dic2\": {\"chave1\": 10, \"chave2\": 20}}\n",
    "df_dod = pd.DataFrame(dic_of_dics)\n",
    "print(\"\\nDataFrame de dicionário de dicionários: \\n{}\".format(df_dod))\n",
    "\n",
    "# Criando um dataframe a partir de uma lista\n",
    "# de listas\n",
    "list_of_lists = [[10,20,20], [45,45,45]]\n",
    "df_lol = pd.DataFrame(list_of_lists)\n",
    "print(\"\\nDataFrame de lista de listas: \\n{}\".format(df_lol))\n",
    "\n",
    "# Criando um dataframe a partir de uma lista\n",
    "# de dicionários\n",
    "list_of_dics = [{\"chave1\": 10, \"chave2\": 10},{\"chave1\": 10, \"chave2\": 20}]\n",
    "df_lod = pd.DataFrame(list_of_dics)\n",
    "print(\"\\nDataFrame de lista de dicionários: \\n{}\".format(df_lod))"
   ]
  }
 ],
 "metadata": {
  "kernelspec": {
   "display_name": "Python 3",
   "language": "python",
   "name": "python3"
  },
  "language_info": {
   "codemirror_mode": {
    "name": "ipython",
    "version": 3
   },
   "file_extension": ".py",
   "mimetype": "text/x-python",
   "name": "python",
   "nbconvert_exporter": "python",
   "pygments_lexer": "ipython3",
   "version": "3.8.5"
  }
 },
 "nbformat": 4,
 "nbformat_minor": 4
}
